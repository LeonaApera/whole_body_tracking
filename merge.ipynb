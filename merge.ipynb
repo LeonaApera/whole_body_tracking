{
 "cells": [
  {
   "cell_type": "code",
   "execution_count": null,
   "id": "3c6c129c",
   "metadata": {},
   "outputs": [
    {
     "name": "stdout",
     "output_type": "stream",
     "text": [
      "Merged dataset saved as lafan1_g1_all.csv\n"
     ]
    }
   ],
   "source": [
    "import os\n",
    "import pandas as pd\n",
    "\n",
    "data_dir = \"/home/thomas/whole_body_tracking/datasets/reference_motions/LAFAN1_Retargeting_Dataset/g1\"\n",
    "all_data = []\n",
    "\n",
    "for fname in os.listdir(data_dir):\n",
    "    if fname.endswith(\".csv\"):\n",
    "        df = pd.read_csv(os.path.join(data_dir, fname), header=None)  # ⚡ 保证不读表头\n",
    "        all_data.append(df)\n",
    "\n",
    "merged = pd.concat(all_data, ignore_index=True)\n",
    "merged.to_csv(\n",
    "    \"/home/thomas/whole_body_tracking/datasets/reference_motions/LAFAN1_Retargeting_Dataset/lafan1_g1_all.csv\",\n",
    "    index=False,\n",
    "    header=False\n",
    ")\n",
    "\n",
    "print(\"✅ Merged dataset saved as lafan1_g1_all.csv\")\n"
   ]
  }
 ],
 "metadata": {
  "kernelspec": {
   "display_name": "mimic",
   "language": "python",
   "name": "python3"
  },
  "language_info": {
   "codemirror_mode": {
    "name": "ipython",
    "version": 3
   },
   "file_extension": ".py",
   "mimetype": "text/x-python",
   "name": "python",
   "nbconvert_exporter": "python",
   "pygments_lexer": "ipython3",
   "version": "3.10.18"
  }
 },
 "nbformat": 4,
 "nbformat_minor": 5
}
